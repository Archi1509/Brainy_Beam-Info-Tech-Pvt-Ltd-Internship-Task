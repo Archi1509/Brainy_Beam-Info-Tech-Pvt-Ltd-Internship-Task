{
 "cells": [
  {
   "cell_type": "code",
   "execution_count": 1,
   "id": "7e5f9308",
   "metadata": {},
   "outputs": [],
   "source": [
    "import pandas as pd\n"
   ]
  },
  {
   "cell_type": "code",
   "execution_count": 8,
   "id": "32db5c4b",
   "metadata": {},
   "outputs": [],
   "source": [
    "# Customer DataFrame\n",
    "df_customers = pd.DataFrame({\n",
    "    'customer_id': [1, 2, 3, 4, 5],\n",
    "    'customer_name': ['Alice', 'Bob', 'Charlie', 'David','Archi'],\n",
    "    'customer_age': [25, 30, 35, 40,22]\n",
    "})"
   ]
  },
  {
   "cell_type": "code",
   "execution_count": 9,
   "id": "11d33b48",
   "metadata": {},
   "outputs": [],
   "source": [
    "# Order DataFrame\n",
    "df_orders = pd.DataFrame({\n",
    "    'order_id': [101, 102, 103, 104, 105],\n",
    "    'customer_id': [1, 2, 1, 3, 4],\n",
    "    'order_date': ['2024-01-01', '2024-01-02', '2024-01-03', '2024-01-01', '2024-01-04'],\n",
    "    'order_amount': [250, 300, 150, 400, 500]\n",
    "})"
   ]
  },
  {
   "cell_type": "markdown",
   "id": "9e3b2308",
   "metadata": {},
   "source": [
    "### Merging DataFrames"
   ]
  },
  {
   "cell_type": "markdown",
   "id": "aa79cff2",
   "metadata": {},
   "source": [
    "In a real-world scenario, you often need to combine customer information with their respective orders. We will merge the two DataFrames on customer_id."
   ]
  },
  {
   "cell_type": "code",
   "execution_count": 10,
   "id": "5e1cfa94",
   "metadata": {},
   "outputs": [
    {
     "name": "stdout",
     "output_type": "stream",
     "text": [
      "   customer_id customer_name  customer_age  order_id  order_date  order_amount\n",
      "0            1         Alice            25       101  2024-01-01           250\n",
      "1            1         Alice            25       103  2024-01-03           150\n",
      "2            2           Bob            30       102  2024-01-02           300\n",
      "3            3       Charlie            35       104  2024-01-01           400\n",
      "4            4         David            40       105  2024-01-04           500\n"
     ]
    }
   ],
   "source": [
    "# Merge customers and orders on 'customer_id'\n",
    "df_merged = pd.merge(df_customers, df_orders, on='customer_id', how='inner')\n",
    "print(df_merged)\n"
   ]
  },
  {
   "cell_type": "raw",
   "id": "effb4454",
   "metadata": {},
   "source": [
    "We performed an inner join on customer_id, meaning only the customers who have made an order are included in the merged result. Alice has two orders, so her data appears twice."
   ]
  },
  {
   "cell_type": "raw",
   "id": "a3879c3c",
   "metadata": {},
   "source": [
    "Merging Types:\n",
    "inner: Keeps only matching rows from both DataFrames.\n",
    "left: Keeps all rows from df_customers and only matching rows from df_orders.\n",
    "right: Keeps all rows from df_orders and only matching rows from df_customers.\n",
    "outer: Keeps all rows from both DataFrames, filling in NaN where there's no match."
   ]
  },
  {
   "cell_type": "code",
   "execution_count": 11,
   "id": "dbb09770",
   "metadata": {},
   "outputs": [
    {
     "name": "stdout",
     "output_type": "stream",
     "text": [
      "   customer_id customer_name  customer_age  order_id  order_date  order_amount\n",
      "0            1         Alice            25     101.0  2024-01-01         250.0\n",
      "1            1         Alice            25     103.0  2024-01-03         150.0\n",
      "2            2           Bob            30     102.0  2024-01-02         300.0\n",
      "3            3       Charlie            35     104.0  2024-01-01         400.0\n",
      "4            4         David            40     105.0  2024-01-04         500.0\n",
      "5            5         Archi            22       NaN         NaN           NaN\n"
     ]
    }
   ],
   "source": [
    "# Outer merge to include all customers (even if they have no orders)\n",
    "df_merged_outer = pd.merge(df_customers, df_orders, on='customer_id', how='outer')\n",
    "print(df_merged_outer)\n"
   ]
  },
  {
   "cell_type": "markdown",
   "id": "54133b41",
   "metadata": {},
   "source": [
    "### Concatenating DataFrames"
   ]
  },
  {
   "cell_type": "markdown",
   "id": "5629d0b9",
   "metadata": {},
   "source": [
    "In some cases, you may want to concatenate two DataFrames. For example, you may want to stack new customer data or order data to the existing ones."
   ]
  },
  {
   "cell_type": "code",
   "execution_count": 12,
   "id": "d9ff1d42",
   "metadata": {},
   "outputs": [],
   "source": [
    "# Creating another DataFrame of new customers\n",
    "df_new_customers = pd.DataFrame({\n",
    "    'customer_id': [6, 7],\n",
    "    'customer_name': ['Eve', 'Frank'],\n",
    "    'customer_age': [45, 50]\n",
    "})"
   ]
  },
  {
   "cell_type": "code",
   "execution_count": 13,
   "id": "2315dc16",
   "metadata": {},
   "outputs": [
    {
     "name": "stdout",
     "output_type": "stream",
     "text": [
      "   customer_id customer_name  customer_age\n",
      "0            1         Alice            25\n",
      "1            2           Bob            30\n",
      "2            3       Charlie            35\n",
      "3            4         David            40\n",
      "4            5         Archi            22\n",
      "5            6           Eve            45\n",
      "6            7         Frank            50\n"
     ]
    }
   ],
   "source": [
    "# Concatenate vertically (add rows)\n",
    "df_concat_vertical = pd.concat([df_customers, df_new_customers], axis=0, ignore_index=True)\n",
    "print(df_concat_vertical)"
   ]
  },
  {
   "cell_type": "code",
   "execution_count": 14,
   "id": "f116714e",
   "metadata": {},
   "outputs": [
    {
     "name": "stdout",
     "output_type": "stream",
     "text": [
      "   customer_id customer_name  customer_age  order_id  customer_id  order_date  \\\n",
      "0            1         Alice            25       101            1  2024-01-01   \n",
      "1            2           Bob            30       102            2  2024-01-02   \n",
      "2            3       Charlie            35       103            1  2024-01-03   \n",
      "3            4         David            40       104            3  2024-01-01   \n",
      "4            5         Archi            22       105            4  2024-01-04   \n",
      "\n",
      "   order_amount  \n",
      "0           250  \n",
      "1           300  \n",
      "2           150  \n",
      "3           400  \n",
      "4           500  \n"
     ]
    }
   ],
   "source": [
    "# Concatenating horizontally (adding columns)\n",
    "df_concat_horizontal = pd.concat([df_customers, df_orders], axis=1)\n",
    "print(df_concat_horizontal)\n"
   ]
  },
  {
   "cell_type": "markdown",
   "id": "b956d645",
   "metadata": {},
   "source": [
    "### Pivoting Data"
   ]
  },
  {
   "cell_type": "markdown",
   "id": "9e5e16f3",
   "metadata": {},
   "source": [
    "In real-world analysis, you might want to restructure the data. For example, you might want to create a table that shows total sales for each customer across different dates.\n",
    "\n"
   ]
  },
  {
   "cell_type": "code",
   "execution_count": 15,
   "id": "fe3b196f",
   "metadata": {},
   "outputs": [
    {
     "name": "stdout",
     "output_type": "stream",
     "text": [
      "order_date   2024-01-01  2024-01-02  2024-01-03  2024-01-04\n",
      "customer_id                                                \n",
      "1                 250.0         NaN       150.0         NaN\n",
      "2                   NaN       300.0         NaN         NaN\n",
      "3                 400.0         NaN         NaN         NaN\n",
      "4                   NaN         NaN         NaN       500.0\n"
     ]
    }
   ],
   "source": [
    "# Pivoting: Reshape data so dates are columns and customer names are rows\n",
    "df_pivot = df_orders.pivot(index='customer_id', columns='order_date', values='order_amount')\n",
    "print(df_pivot)\n"
   ]
  },
  {
   "cell_type": "raw",
   "id": "10a6d422",
   "metadata": {},
   "source": [
    "The pivot() function reshapes the data so that each order date becomes a column, and the corresponding sales (order amounts) are placed under each date."
   ]
  },
  {
   "cell_type": "markdown",
   "id": "3e434219",
   "metadata": {},
   "source": [
    "### Melting Data"
   ]
  },
  {
   "cell_type": "markdown",
   "id": "55eb36d1",
   "metadata": {},
   "source": [
    "In some cases, you might need to convert a wide DataFrame into a long format (also called \"unpivoting\")."
   ]
  },
  {
   "cell_type": "code",
   "execution_count": 16,
   "id": "5f0804c3",
   "metadata": {},
   "outputs": [
    {
     "name": "stdout",
     "output_type": "stream",
     "text": [
      "    customer_id  order_date  order_amount\n",
      "0             1  2024-01-01         250.0\n",
      "1             2  2024-01-01           NaN\n",
      "2             3  2024-01-01         400.0\n",
      "3             4  2024-01-01           NaN\n",
      "4             1  2024-01-02           NaN\n",
      "5             2  2024-01-02         300.0\n",
      "6             3  2024-01-02           NaN\n",
      "7             4  2024-01-02           NaN\n",
      "8             1  2024-01-03         150.0\n",
      "9             2  2024-01-03           NaN\n",
      "10            3  2024-01-03           NaN\n",
      "11            4  2024-01-03           NaN\n",
      "12            1  2024-01-04           NaN\n",
      "13            2  2024-01-04           NaN\n",
      "14            3  2024-01-04           NaN\n",
      "15            4  2024-01-04         500.0\n"
     ]
    }
   ],
   "source": [
    "df_melted = df_pivot.reset_index().melt(id_vars='customer_id', var_name='order_date', value_name='order_amount')\n",
    "print(df_melted)\n"
   ]
  },
  {
   "cell_type": "markdown",
   "id": "82b504c1",
   "metadata": {},
   "source": [
    "### Stacking Data"
   ]
  },
  {
   "cell_type": "markdown",
   "id": "94c5e00a",
   "metadata": {},
   "source": [
    "Stacking allows you to compress the DataFrame's columns into a single column, creating a MultiIndex."
   ]
  },
  {
   "cell_type": "code",
   "execution_count": 17,
   "id": "7ed75a9f",
   "metadata": {},
   "outputs": [
    {
     "name": "stdout",
     "output_type": "stream",
     "text": [
      "   customer_id  order_date  order_amount\n",
      "0            1  2024-01-01         250.0\n",
      "1            1  2024-01-03         150.0\n",
      "2            2  2024-01-02         300.0\n",
      "3            3  2024-01-01         400.0\n",
      "4            4  2024-01-04         500.0\n"
     ]
    }
   ],
   "source": [
    "df_stacked = df_pivot.stack().reset_index(name='order_amount')\n",
    "print(df_stacked)\n"
   ]
  },
  {
   "cell_type": "code",
   "execution_count": null,
   "id": "9ab1bf4d",
   "metadata": {},
   "outputs": [],
   "source": []
  }
 ],
 "metadata": {
  "kernelspec": {
   "display_name": "Python 3 (ipykernel)",
   "language": "python",
   "name": "python3"
  },
  "language_info": {
   "codemirror_mode": {
    "name": "ipython",
    "version": 3
   },
   "file_extension": ".py",
   "mimetype": "text/x-python",
   "name": "python",
   "nbconvert_exporter": "python",
   "pygments_lexer": "ipython3",
   "version": "3.11.3"
  }
 },
 "nbformat": 4,
 "nbformat_minor": 5
}
