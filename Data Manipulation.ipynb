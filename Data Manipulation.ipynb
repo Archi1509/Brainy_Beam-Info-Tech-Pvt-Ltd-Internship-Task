{
 "cells": [
  {
   "cell_type": "code",
   "execution_count": 1,
   "id": "c632c22c",
   "metadata": {},
   "outputs": [],
   "source": [
    "import numpy as np\n"
   ]
  },
  {
   "cell_type": "code",
   "execution_count": 2,
   "id": "76c1f442",
   "metadata": {},
   "outputs": [],
   "source": [
    "# Define a custom data type for a Student with id, score, and name\n",
    "student_dtype = np.dtype([('id', np.int32),          # 32-bit integer for student ID\n",
    "                          ('score', np.float32),     # 32-bit float for score\n",
    "                          ('name', np.str_, 20)])    # String of up to 20 characters for name\n"
   ]
  },
  {
   "cell_type": "code",
   "execution_count": 3,
   "id": "006db769",
   "metadata": {},
   "outputs": [],
   "source": [
    "# Create an array of Student objects using the custom data type\n",
    "students = np.array([(1, 85.5, 'John'), \n",
    "                    (2, 92.0, 'Alice'), \n",
    "                    (3, 78.0, 'Bob')], dtype=student_dtype)"
   ]
  },
  {
   "cell_type": "code",
   "execution_count": 4,
   "id": "8a4a807c",
   "metadata": {},
   "outputs": [
    {
     "name": "stdout",
     "output_type": "stream",
     "text": [
      "Array of Students:\n",
      "[(1, 85.5, 'John') (2, 92. , 'Alice') (3, 78. , 'Bob')]\n"
     ]
    }
   ],
   "source": [
    "# Print the array\n",
    "print(\"Array of Students:\")\n",
    "print(students)"
   ]
  },
  {
   "cell_type": "code",
   "execution_count": 6,
   "id": "a84ede85",
   "metadata": {},
   "outputs": [
    {
     "name": "stdout",
     "output_type": "stream",
     "text": [
      "\n",
      "Accessing 'score' of the first student:\n",
      "85.5\n",
      "\n",
      "Accessing 'name' of the second student:\n",
      "Alice\n",
      "\n",
      "Accessing 'id' of the third student:\n",
      "3\n"
     ]
    }
   ],
   "source": [
    "# Accessing individual fields (attributes)\n",
    "print(\"\\nAccessing 'score' of the first student:\")\n",
    "print(students[0]['score'])\n",
    "\n",
    "print(\"\\nAccessing 'name' of the second student:\")\n",
    "print(students[1]['name'])\n",
    "\n",
    "print(\"\\nAccessing 'id' of the third student:\")\n",
    "print(students[2]['id'])"
   ]
  },
  {
   "cell_type": "code",
   "execution_count": null,
   "id": "530182c4",
   "metadata": {},
   "outputs": [],
   "source": []
  }
 ],
 "metadata": {
  "kernelspec": {
   "display_name": "Python 3 (ipykernel)",
   "language": "python",
   "name": "python3"
  },
  "language_info": {
   "codemirror_mode": {
    "name": "ipython",
    "version": 3
   },
   "file_extension": ".py",
   "mimetype": "text/x-python",
   "name": "python",
   "nbconvert_exporter": "python",
   "pygments_lexer": "ipython3",
   "version": "3.11.3"
  }
 },
 "nbformat": 4,
 "nbformat_minor": 5
}
