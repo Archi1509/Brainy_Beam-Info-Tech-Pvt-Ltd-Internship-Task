{
 "cells": [
  {
   "cell_type": "code",
   "execution_count": 1,
   "id": "3db54814",
   "metadata": {},
   "outputs": [],
   "source": [
    "import numpy as np\n",
    "import scipy.sparse as sp\n",
    "from scipy.sparse.linalg import eigs"
   ]
  },
  {
   "cell_type": "code",
   "execution_count": 2,
   "id": "f325cb31",
   "metadata": {},
   "outputs": [],
   "source": [
    "# Let's create a sparse matrix with a few non-zero elements\n",
    "A = sp.csr_matrix([\n",
    "    [4, 1, 0, 0, 0],\n",
    "    [1, 4, 1, 0, 0],\n",
    "    [0, 1, 4, 1, 0],\n",
    "    [0, 0, 1, 4, 1],\n",
    "    [0, 0, 0, 1, 4],\n",
    "], dtype=np.float64)"
   ]
  },
  {
   "cell_type": "code",
   "execution_count": 3,
   "id": "baf71008",
   "metadata": {},
   "outputs": [],
   "source": [
    "# Compute the eigenvalues and eigenvectors using scipy.sparse.linalg.eigs\n",
    "# The k=3 parameter indicates that we want to compute the 3 largest eigenvalues\n",
    "# For large matrices, you might choose different parameters based on your needs\n",
    "eigenvalues, eigenvectors = eigs(A, k=3, which='LM')  # 'LM' finds the largest magnitude eigenvalues\n"
   ]
  },
  {
   "cell_type": "code",
   "execution_count": 4,
   "id": "8a4f45ea",
   "metadata": {},
   "outputs": [
    {
     "name": "stdout",
     "output_type": "stream",
     "text": [
      "Eigenvalues: [5.73205081+0.j 5.        +0.j 4.        +0.j]\n",
      "\n",
      "Eigenvectors:\n",
      "[[ 2.88675135e-01+0.j  5.00000000e-01+0.j  5.77350269e-01+0.j]\n",
      " [ 5.00000000e-01+0.j  5.00000000e-01+0.j  1.93069710e-15+0.j]\n",
      " [ 5.77350269e-01+0.j  2.32129330e-15+0.j -5.77350269e-01+0.j]\n",
      " [ 5.00000000e-01+0.j -5.00000000e-01+0.j -5.59978373e-16+0.j]\n",
      " [ 2.88675135e-01+0.j -5.00000000e-01+0.j  5.77350269e-01+0.j]]\n"
     ]
    }
   ],
   "source": [
    "print(\"Eigenvalues:\", eigenvalues)\n",
    "print(\"\\nEigenvectors:\")\n",
    "print(eigenvectors)"
   ]
  },
  {
   "cell_type": "code",
   "execution_count": null,
   "id": "d64ecd0c",
   "metadata": {},
   "outputs": [],
   "source": []
  },
  {
   "cell_type": "code",
   "execution_count": null,
   "id": "73f644c7",
   "metadata": {},
   "outputs": [],
   "source": []
  }
 ],
 "metadata": {
  "kernelspec": {
   "display_name": "Python 3 (ipykernel)",
   "language": "python",
   "name": "python3"
  },
  "language_info": {
   "codemirror_mode": {
    "name": "ipython",
    "version": 3
   },
   "file_extension": ".py",
   "mimetype": "text/x-python",
   "name": "python",
   "nbconvert_exporter": "python",
   "pygments_lexer": "ipython3",
   "version": "3.11.3"
  }
 },
 "nbformat": 4,
 "nbformat_minor": 5
}
